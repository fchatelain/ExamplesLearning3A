{
 "cells": [
  {
   "cell_type": "code",
   "execution_count": 1,
   "metadata": {},
   "outputs": [],
   "source": [
    "%matplotlib inline"
   ]
  },
  {
   "cell_type": "markdown",
   "metadata": {},
   "source": [
    "\n",
    "# GMM covariances\n",
    "\n",
    "\n",
    "Demonstration of several covariances types for Gaussian mixture models.\n",
    "\n",
    "See https://scikit-learn.org/stable/modules/generated/sklearn.mixture.GaussianMixture.html#sklearn.mixture.GaussianMixture for more information on the estimator.\n",
    "\n",
    "Although GMM are often used for clustering, we can compare the obtained\n",
    "clusters with the actual classes from the dataset. We initialize the means\n",
    "of the Gaussians with the means of the classes from the training set to make\n",
    "this comparison valid.\n",
    "\n",
    "We plot predicted labels on both training and held out test data using a\n",
    "variety of GMM covariance types on the iris dataset.\n",
    "We compare GMMs with spherical, diagonal, full, and tied covariance\n",
    "matrices in increasing order of performance. Although one would\n",
    "expect full covariance to perform best in general, it is prone to\n",
    "overfitting on small datasets and does not generalize well to held out\n",
    "test data.\n",
    "\n",
    "On the plots, train data is shown as dots, while test data is shown as\n",
    "crosses. The iris dataset is four-dimensional. Only the first two\n",
    "dimensions are shown here, and thus some points are separated in other\n",
    "dimensions.\n",
    "\n"
   ]
  },
  {
   "cell_type": "markdown",
   "metadata": {},
   "source": [
    "This is a simplified version of the code that can be found here:\n",
    "https://scikit-learn.org/stable/auto_examples/mixture/plot_gmm_covariances.html#sphx-glr-auto-examples-mixture-plot-gmm-covariances-py"
   ]
  },
  {
   "cell_type": "code",
   "execution_count": 2,
   "metadata": {},
   "outputs": [],
   "source": [
    "import matplotlib as mpl\n",
    "import matplotlib.pyplot as plt\n",
    "import numpy as np\n",
    "from sklearn import datasets\n",
    "from sklearn.mixture import GaussianMixture\n",
    "from sklearn.model_selection import StratifiedKFold\n"
   ]
  },
  {
   "cell_type": "markdown",
   "metadata": {},
   "source": [
    "# Iris data - EM clustering\n",
    "Note that while labels are available for this data set, they will not be used in GMM identification.  "
   ]
  },
  {
   "cell_type": "code",
   "execution_count": 3,
   "metadata": {},
   "outputs": [],
   "source": [
    "iris = datasets.load_iris()\n",
    "\n",
    "X_train = iris.data\n",
    "y_train = iris.target\n",
    "\n",
    "n_classes = len(np.unique(y_train))  #list the unique elements in y_train : nb of different labels"
   ]
  },
  {
   "cell_type": "markdown",
   "metadata": {},
   "source": [
    "## GMM model estimation"
   ]
  },
  {
   "cell_type": "code",
   "execution_count": 12,
   "metadata": {},
   "outputs": [],
   "source": [
    "# Try GMMs using full covariance (no constraints imposed on cov)\n",
    "estimator = GaussianMixture(n_components=n_classes, \n",
    "                             covariance_type='full', max_iter=50, random_state=0)"
   ]
  },
  {
   "cell_type": "markdown",
   "metadata": {},
   "source": [
    "# !! \n",
    "Lines below initialize with centers of mass of each clsuetr, as labels are known...\n",
    "Usually, 3 different centers are required, chosen at random. It this latter case, the correct\n",
    "    clusters are extracted, upto some circular permutation on the labels"
   ]
  },
  {
   "cell_type": "code",
   "execution_count": 13,
   "metadata": {},
   "outputs": [
    {
     "data": {
      "text/plain": [
       "GaussianMixture(covariance_type='full', init_params='kmeans', max_iter=50,\n",
       "        means_init=array([[5.006, 3.428, 1.462, 0.246],\n",
       "       [5.936, 2.77 , 4.26 , 1.326],\n",
       "       [6.588, 2.974, 5.552, 2.026]]),\n",
       "        n_components=3, n_init=1, precisions_init=None, random_state=0,\n",
       "        reg_covar=1e-06, tol=0.001, verbose=0, verbose_interval=10,\n",
       "        warm_start=False, weights_init=None)"
      ]
     },
     "execution_count": 13,
     "metadata": {},
     "output_type": "execute_result"
    }
   ],
   "source": [
    "# Since we have class labels for the training data, we can\n",
    "# initialize the GMM parameters in a supervised manner.\n",
    "estimator.means_init = np.array([X_train[y_train == i].mean(axis=0)\n",
    "                                    for i in range(n_classes)])\n",
    "\n",
    "estimator.fit(X_train)"
   ]
  },
  {
   "cell_type": "code",
   "execution_count": 14,
   "metadata": {},
   "outputs": [
    {
     "name": "stdout",
     "output_type": "stream",
     "text": [
      "[[[0.121765   0.097232   0.016028   0.010124  ]\n",
      "  [0.097232   0.140817   0.011464   0.009112  ]\n",
      "  [0.016028   0.011464   0.029557   0.005948  ]\n",
      "  [0.010124   0.009112   0.005948   0.010885  ]]\n",
      "\n",
      " [[0.27559955 0.09650723 0.18582846 0.0549543 ]\n",
      "  [0.09650723 0.09250653 0.09101528 0.04301206]\n",
      "  [0.18582846 0.09101528 0.20317456 0.06205416]\n",
      "  [0.0549543  0.04301206 0.06205416 0.03249313]]\n",
      "\n",
      " [[0.38761456 0.09227913 0.30236447 0.06061135]\n",
      "  [0.09227913 0.11046418 0.08376163 0.05568011]\n",
      "  [0.30236447 0.08376163 0.32534816 0.07219341]\n",
      "  [0.06061135 0.05568011 0.07219341 0.08453171]]]\n"
     ]
    }
   ],
   "source": [
    "print(estimator.covariances_)\n",
    "#print(estimator.covariances_[1][1:3,1:3])"
   ]
  },
  {
   "cell_type": "code",
   "execution_count": 15,
   "metadata": {},
   "outputs": [
    {
     "name": "stdout",
     "output_type": "stream",
     "text": [
      "[[5.006      3.428      1.462      0.246     ]\n",
      " [5.91790445 2.77820033 4.20703204 1.29913322]\n",
      " [6.54708722 2.94971413 5.48510319 1.98823857]]\n"
     ]
    },
    {
     "data": {
      "text/plain": [
       "array([5.006, 1.462])"
      ]
     },
     "execution_count": 15,
     "metadata": {},
     "output_type": "execute_result"
    }
   ],
   "source": [
    "print(estimator.means_)\n",
    "type(estimator.means_)\n",
    "estimator.means_[0,0::2]"
   ]
  },
  {
   "cell_type": "markdown",
   "metadata": {},
   "source": [
    "## Ploting results : \n",
    "choose the  axis pair to visualize "
   ]
  },
  {
   "cell_type": "code",
   "execution_count": 17,
   "metadata": {},
   "outputs": [
    {
     "data": {
      "image/png": "[encoded data removed]",
      "text/plain": [
       "<Figure size 432x288 with 1 Axes>"
      ]
     },
     "metadata": {
      "needs_background": "light"
     },
     "output_type": "display_data"
    }
   ],
   "source": [
    "# for K clusters, specify K colors  (here K=3)\n",
    "colors = ['navy', 'turquoise', 'darkorange']\n",
    "\n",
    "fig, ax = plt.subplots(subplot_kw={'aspect': 'equal'})\n",
    "\n",
    "axes=['x3','x4']\n",
    "for n, color in enumerate(colors):\n",
    "        # defines ellipses parameters, using eigen-axes\n",
    "        data = iris.data[iris.target == n]\n",
    "        if axes==['x1','x2']:\n",
    "            covariances = estimator.covariances_[n][0:2, 0:2]\n",
    "            plt.scatter(data[:, 0], data[:, 1], s=10, color=color,\n",
    "                    label=iris.target_names[n])\n",
    "            Est_means=estimator.means_[n,0:2]\n",
    "        elif axes == ['x1','x3']:\n",
    "            covariances = estimator.covariances_[n][0::2, 0::2]\n",
    "            plt.scatter(data[:, 0], data[:, 2], s=10, color=color,\n",
    "                    label=iris.target_names[n])\n",
    "            Est_means=estimator.means_[n,0::2]\n",
    "        elif axes ==['x1','x4']:\n",
    "            covariances = estimator.covariances_[n][0::3, 0::3]\n",
    "            plt.scatter(data[:, 0], data[:, 3], s=10, color=color,\n",
    "                    label=iris.target_names[n])\n",
    "            Est_means=estimator.means_[n,0::3]\n",
    "        elif axes==['x2','x3']:\n",
    "            covariances = estimator.covariances_[n][1:3, 1:3]\n",
    "            plt.scatter(data[:, 1], data[:, 2], s=10, color=color,\n",
    "                    label=iris.target_names[n])\n",
    "            Est_means=estimator.means_[n,1:3]\n",
    "        elif axes==['x2','x4']:\n",
    "            covariances = estimator.covariances_[n][1::2, 1::2]\n",
    "            plt.scatter(data[:, 1], data[:, 3], s=10, color=color,\n",
    "                    label=iris.target_names[n])\n",
    "            Est_means=estimator.means_[n,1::2]\n",
    "        elif axes==['x3','x4']:\n",
    "            covariances = estimator.covariances_[n][2:, 2:]\n",
    "            plt.scatter(data[:, 2], data[:, 3], s=10, color=color,\n",
    "                    label=iris.target_names[n])\n",
    "            Est_means=estimator.means_[n,2:]\n",
    "        \n",
    "        v, w = np.linalg.eigh(covariances) \n",
    "        u = w[0] / np.linalg.norm(w[0])\n",
    "        angle = np.arctan2(u[1], u[0])\n",
    "        angle = 180 * angle / np.pi  # convert to degrees\n",
    "        v = 2. * np.sqrt(2.) * np.sqrt(v)\n",
    "        ell = mpl.patches.Ellipse(Est_means, v[0], v[1],\n",
    "                                  180 + angle, color=color)\n",
    "        #dplot the ellipses\n",
    "        ell.set_clip_box(ax.bbox)\n",
    "        ell.set_alpha(0.5)\n",
    "        ax.add_artist(ell)\n",
    "        ax.set_aspect('auto')\n",
    "     \n",
    "        \n",
    "# for visualizing axe1 vs axe2, use \"covariances = estimator.covariances_[n][0:2, 0:2]\"\n",
    "# for visualizing axe1 vs axe3, use \"covariances = estimator.covariances_[n][0::2, 0::2]\"\n",
    "# for visualizing axe1 vs axe4, use \"covariances = estimator.covariances_[n][0::3, 0::3]\"\n",
    "# for visualizing axe2 vs axe3, use \"covariances = estimator.covariances_[n][1:3, 1:3]\"\n",
    "# for visualizing axe2 vs axe4, use \"covariances = estimator.covariances_[n][1::2, 1::2]\"\n",
    "# for visualizing axe3 vs axe4, use \"covariances = estimator.covariances_[n][2:, 2:]\"\n",
    "\n"
   ]
  },
  {
   "cell_type": "code",
   "execution_count": 26,
   "metadata": {},
   "outputs": [
    {
     "name": "stdout",
     "output_type": "stream",
     "text": [
      "bic = [574.01783272 580.86127847 633.77840653 652.32822794 696.51450225]\n",
      "aic = [486.70940919 448.39332553 456.15092417 429.54121617 428.56796108]\n"
     ]
    },
    {
     "data": {
      "image/png": "[encoded data removed]",
      "text/plain": [
       "<Figure size 432x288 with 1 Axes>"
      ]
     },
     "metadata": {
      "needs_background": "light"
     },
     "output_type": "display_data"
    }
   ],
   "source": [
    "import itertools\n",
    "from scipy import linalg\n",
    "from sklearn import mixture\n",
    "\n",
    "lowest_bic = np.infty\n",
    "bic = []\n",
    "aic = []\n",
    "n_components_range = range(2, 7)\n",
    "cv_type =  'full'\n",
    "\n",
    "    \n",
    "for n_comp in n_components_range:\n",
    "        # Fit a Gaussian mixture with EM\n",
    "    gmm = GaussianMixture(n_components=n_comp,\n",
    "                                  covariance_type=cv_type, max_iter=1000, random_state=1)\n",
    "    gmm.fit(X_train)\n",
    "    #bic.append(gmm.aic(X_train))\n",
    "    bic.append(gmm.bic(X_train))\n",
    "    aic.append(gmm.aic(X_train))\n",
    "bic = np.array(bic)\n",
    "aic = np.array(aic)\n",
    "\n",
    "# Plot the BIC scores\n",
    "\n",
    "plt.plot(np.linspace(2,6,5),bic,'b',np.linspace(2,6,5),aic,'r')\n",
    "\n",
    "print(\"bic = {}\".format(bic))\n",
    "print(\"aic = {}\".format(aic))    \n"
   ]
  },
  {
   "cell_type": "code",
   "execution_count": 27,
   "metadata": {},
   "outputs": [
    {
     "name": "stdout",
     "output_type": "stream",
     "text": [
      "[[ 0  1  2  3]\n",
      " [ 4  5  6  7]\n",
      " [ 8  9 10 11]\n",
      " [12 13 14 15]]\n",
      "1\n",
      "2\n",
      "3\n",
      "4\n",
      "5\n"
     ]
    },
    {
     "data": {
      "text/plain": [
       "array([2., 3., 4., 5., 6.])"
      ]
     },
     "execution_count": 27,
     "metadata": {},
     "output_type": "execute_result"
    }
   ],
   "source": [
    "import random\n",
    "y=np.arange(16)\n",
    "y=np.reshape(y,(4,4))\n",
    "print(y)\n",
    "y[2:,2:]\n",
    "\n",
    "for i in range(1,6):\n",
    "    print(i)\n",
    "x=np.linspace(1,7,7)\n",
    "np.linspace(2,6,5)\n"
   ]
  }
 ],
 "metadata": {
  "kernelspec": {
   "display_name": "Python 3",
   "language": "python",
   "name": "python3"
  },
  "language_info": {
   "codemirror_mode": {
    "name": "ipython",
    "version": 3
   },
   "file_extension": ".py",
   "mimetype": "text/x-python",
   "name": "python",
   "nbconvert_exporter": "python",
   "pygments_lexer": "ipython3",
   "version": "3.7.1"
  }
 },
 "nbformat": 4,
 "nbformat_minor": 1
}
