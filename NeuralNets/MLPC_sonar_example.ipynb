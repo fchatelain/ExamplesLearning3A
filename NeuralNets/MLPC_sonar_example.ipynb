{
 "cells": [
  {
   "cell_type": "markdown",
   "metadata": {},
   "source": [
    "## Sonar data classification using MLP classifier (sklearn)"
   ]
  },
  {
   "cell_type": "code",
   "execution_count": 114,
   "metadata": {},
   "outputs": [],
   "source": [
    "import numpy as np\n",
    "from csv import reader\n",
    "from sklearn.neural_network import MLPClassifier\n",
    "import matplotlib.pyplot as plt\n",
    "import random \n",
    "from sklearn.preprocessing import StandardScaler\n",
    "from sklearn.metrics import confusion_matrix\n",
    "from sklearn.model_selection import cross_val_score"
   ]
  },
  {
   "cell_type": "markdown",
   "metadata": {},
   "source": [
    "### load and prepare data from csv file"
   ]
  },
  {
   "cell_type": "code",
   "execution_count": 115,
   "metadata": {},
   "outputs": [
    {
     "name": "stdout",
     "output_type": "stream",
     "text": [
      "size of sonar dataset = (208, 61)\n"
     ]
    }
   ],
   "source": [
    "\n",
    "# Load a CSV file\n",
    "def load_csv(filename):\n",
    "\tdataset = list()\n",
    "\twith open(filename, 'r') as file:\n",
    "\t\tcsv_reader = reader(file)\n",
    "\t\tfor row in csv_reader:\n",
    "\t\t\tif not row:\n",
    "\t\t\t\tcontinue\n",
    "\t\t\tdataset.append(row)\n",
    "\treturn dataset\n",
    "\n",
    "# Convert string column to float\n",
    "def str_column_to_float(dataset, column):\n",
    "\tfor row in dataset:\n",
    "\t\trow[column] = float(row[column].strip())\n",
    " \n",
    "# Convert string column to integer\n",
    "def str_column_to_int(dataset, column):\n",
    "\tclass_values = [row[column] for row in dataset]\n",
    "\tunique = set(class_values)\n",
    "\tlookup = dict()\n",
    "\tfor i, value in enumerate(unique):\n",
    "\t\tlookup[value] = i\n",
    "\tfor row in dataset:\n",
    "\t\trow[column] = lookup[row[column]]\n",
    "\treturn lookup\n",
    "\n",
    "# load and prepare data\n",
    "filename = 'sonar.all-data.csv'\n",
    "dataset = load_csv(filename)\n",
    "for i in range(len(dataset[0])-1):\n",
    "\tstr_column_to_float(dataset, i)\n",
    "# convert string class to integers\n",
    "str_column_to_int(dataset, len(dataset[0])-1)\n",
    "print(\"size of sonar dataset = {}\".format(np.asarray(dataset).shape))\n",
    "#type(dataset)"
   ]
  },
  {
   "cell_type": "markdown",
   "metadata": {},
   "source": [
    "### Prepare Train and test sets. "
   ]
  },
  {
   "cell_type": "code",
   "execution_count": 116,
   "metadata": {},
   "outputs": [
    {
     "name": "stdout",
     "output_type": "stream",
     "text": [
      "test_size = 41\n",
      "nb_data_test = 41, nb_data_train = 167\n",
      "dimensions of Xtrain = (167, 60), and of ytrain =(167, 1)\n",
      "dimensions of Xtest = (41, 60), and of ytest =(41, 1)\n"
     ]
    },
    {
     "data": {
      "text/plain": [
       "array([0, 1, 1, 1, 0, 0, 0, 0, 1, 0, 1, 1, 0, 1, 0, 1, 1, 1, 1, 1, 0, 0,\n",
       "       0, 1, 0, 1, 1, 0, 1, 0, 0, 1, 0, 1, 1, 0, 1, 0, 1, 1, 1, 1, 0, 1,\n",
       "       0, 0, 1, 0, 1, 0, 1, 0, 0, 1, 1, 0, 1, 1, 1, 0, 0, 0, 0, 1, 0, 1,\n",
       "       0, 1, 1, 0, 1, 1, 1, 1, 1, 1, 1, 0, 1, 1, 0, 1, 0, 1, 0, 1, 0, 1,\n",
       "       1, 0, 1, 1, 1, 1, 0, 1, 1, 0, 0, 0, 0, 0, 1, 1, 1, 0, 1, 0, 0, 0,\n",
       "       0, 1, 0, 1, 1, 0, 1, 0, 0, 1, 1, 1, 1, 1, 1, 0, 1, 0, 1, 1, 1, 1,\n",
       "       1, 0, 0, 1, 0, 1, 0, 1, 0, 1, 1, 0, 1, 1, 1, 1, 0, 0, 0, 0, 1, 0,\n",
       "       0, 0, 0, 0, 1, 0, 0, 1, 1, 0, 1, 1, 1])"
      ]
     },
     "execution_count": 116,
     "metadata": {},
     "output_type": "execute_result"
    }
   ],
   "source": [
    "\n",
    "random.shuffle(dataset)\n",
    "test_size=int(len(dataset)*.20)   # 40% data in test set, 60% in training set\n",
    "print(\"test_size = {}\".format(test_size))\n",
    "dataset_test = dataset[len(dataset)-test_size:]\n",
    "dataset_train = dataset[0:len(dataset)-test_size]\n",
    "\n",
    "\n",
    "Xtrain=list()\n",
    "ytrain=list()\n",
    "for i in range(len(dataset_train)):\n",
    "    row=list(dataset_train[i])\n",
    "    ytrain.append(row[-1:])    \n",
    "    del row[-1:]\n",
    "    Xtrain.append(row)\n",
    "    \n",
    "Xtest=list()\n",
    "ytest=list()\n",
    "for i in range(len(dataset_test)):\n",
    "    row=list(dataset_test[i])\n",
    "    ytest.append(row[-1:])    \n",
    "    del row[-1:]\n",
    "    Xtest.append(row)\n",
    "    \n",
    "print(\"nb_data_test = {0}, nb_data_train = {1}\".format(len(dataset_test),len(dataset_train)))\n",
    "print(\"dimensions of Xtrain = {0}, and of ytrain ={1}\".format(np.asarray(Xtrain).shape, np.asarray(ytrain).shape))\n",
    "print(\"dimensions of Xtest = {0}, and of ytest ={1}\".format(np.asarray(Xtest).shape, np.asarray(ytest).shape))\n",
    "\n",
    "\n",
    "scal=1\n",
    "if scal==1:\n",
    "    scaler = StandardScaler() \n",
    "# Fit only to the training data\n",
    "    scaler.fit(Xtrain)\n",
    "    StandardScaler(copy=True, with_mean=True, with_std=True)\n",
    "# Now apply the transformations to the data:\n",
    "    Xtrain = scaler.transform(Xtrain)\n",
    "    Xtest = scaler.transform(Xtest)\n",
    "\n",
    "    \n",
    "np.ravel(ytrain)"
   ]
  },
  {
   "cell_type": "code",
   "execution_count": 128,
   "metadata": {},
   "outputs": [
    {
     "name": "stdout",
     "output_type": "stream",
     "text": [
      "score MLP on Train Sequences : 0.9820359281437125\n",
      "score MLP on Test Sequences :  0.9024390243902439\n"
     ]
    }
   ],
   "source": [
    "clf = MLPClassifier(solver='lbfgs', alpha=1e-3, hidden_layer_sizes=(6, 3), random_state=1, activation='logistic')\n",
    "clf.fit(Xtrain,np.ravel(ytrain))\n",
    "\n",
    "print(\"score MLP on Train Sequences :\", clf.score(Xtrain, ytrain))\n",
    "print(\"score MLP on Test Sequences : \", clf.score(Xtest, ytest))\n",
    "#clf.coefs_"
   ]
  },
  {
   "cell_type": "code",
   "execution_count": 129,
   "metadata": {},
   "outputs": [],
   "source": [
    "y_pred=clf.predict(Xtest)\n",
    "# MLPClassifier?  #uncomment to acces to MLPClassifier documentation\n"
   ]
  },
  {
   "cell_type": "code",
   "execution_count": 130,
   "metadata": {},
   "outputs": [
    {
     "name": "stdout",
     "output_type": "stream",
     "text": [
      "confusion matrix\n",
      "[[21  2]\n",
      " [ 2 16]]\n",
      "ytest [0 0 1 0 0 0 1 1 0 1 1 1 0 1 0 1 1 0 0 1 0 0 0 0 1 1 0 0 1 0 0 1 0 1 0 0 0\n",
      " 0 1 1 1]\n",
      "y_pred [0 0 1 0 0 0 1 0 0 1 0 1 0 1 1 1 1 0 0 1 0 0 0 0 1 1 0 0 1 0 0 1 0 1 0 0 1\n",
      " 0 1 1 1]\n"
     ]
    }
   ],
   "source": [
    "\n",
    "print('confusion matrix'), print(confusion_matrix(ytest, y_pred))\n",
    "print(\"ytest\", np.ravel(ytest))\n",
    "print(\"y_pred\", y_pred)\n",
    "#clf.coefs_"
   ]
  },
  {
   "cell_type": "code",
   "execution_count": 131,
   "metadata": {},
   "outputs": [
    {
     "name": "stdout",
     "output_type": "stream",
     "text": [
      " scores : [0.74418605 0.76190476 0.73170732 0.90243902 0.85365854]\n",
      " mean score : 0.7987791372930341\n"
     ]
    }
   ],
   "source": [
    "\n",
    "\n",
    "X=list()\n",
    "y=list()\n",
    "for i in range(len(dataset)):\n",
    "    row=list(dataset[i])\n",
    "    y.append(row[-1:])    \n",
    "    del row[-1:]\n",
    "    X.append(row)\n",
    "y=np.ravel(y)\n",
    "\n",
    "scores = cross_val_score(clf, X, y, cv=5)\n",
    "print(\" scores :\", scores)\n",
    "print(\" mean score :\", np.mean(scores))\n"
   ]
  },
  {
   "cell_type": "markdown",
   "metadata": {},
   "source": [
    "### Visualize the coeff values for each layer.   "
   ]
  },
  {
   "cell_type": "code",
   "execution_count": 132,
   "metadata": {},
   "outputs": [
    {
     "data": {
      "text/plain": [
       "<matplotlib.colorbar.Colorbar at 0x1a1414b400>"
      ]
     },
     "execution_count": 132,
     "metadata": {},
     "output_type": "execute_result"
    },
    {
     "data": {
      "image/png": "[encoded data removed]",
      "text/plain": [
       "<Figure size 1152x144 with 2 Axes>"
      ]
     },
     "metadata": {
      "needs_background": "light"
     },
     "output_type": "display_data"
    },
    {
     "data": {
      "image/png": "[encoded data removed]",
      "text/plain": [
       "<Figure size 576x288 with 2 Axes>"
      ]
     },
     "metadata": {
      "needs_background": "light"
     },
     "output_type": "display_data"
    },
    {
     "data": {
      "image/png": "[encoded data removed]",
      "text/plain": [
       "<Figure size 864x288 with 2 Axes>"
      ]
     },
     "metadata": {
      "needs_background": "light"
     },
     "output_type": "display_data"
    }
   ],
   "source": [
    "from matplotlib import cm\n",
    "\n",
    "data1 = clf.coefs_[0].transpose()\n",
    "plt.matshow(data1)\n",
    "plt.colorbar()\n",
    "\n",
    "data2 = clf.coefs_[1].transpose()\n",
    "plt.matshow(data2)\n",
    "plt.colorbar()\n",
    "\n",
    "\n",
    "data3 = clf.coefs_[2].transpose()\n",
    "plt.matshow(data3)\n",
    "plt.colorbar()\n"
   ]
  }
 ],
 "metadata": {
  "kernelspec": {
   "display_name": "Python 3",
   "language": "python",
   "name": "python3"
  },
  "language_info": {
   "codemirror_mode": {
    "name": "ipython",
    "version": 3
   },
   "file_extension": ".py",
   "mimetype": "text/x-python",
   "name": "python",
   "nbconvert_exporter": "python",
   "pygments_lexer": "ipython3",
   "version": "3.6.8"
  }
 },
 "nbformat": 4,
 "nbformat_minor": 2
}
