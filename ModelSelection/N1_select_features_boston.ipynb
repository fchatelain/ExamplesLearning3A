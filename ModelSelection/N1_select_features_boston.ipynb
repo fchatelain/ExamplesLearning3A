{
 "cells": [
  {
   "cell_type": "code",
   "execution_count": null,
   "metadata": {},
   "outputs": [],
   "source": [
    "%matplotlib notebook"
   ]
  },
  {
   "cell_type": "markdown",
   "metadata": {},
   "source": [
    "\n",
    "# Feature selection using Subset selection and Lasso\n",
    "\n",
    "Use stepwise procedures or Lasso to select the best\n",
    "features from the Boston dataset.\n",
    "\n"
   ]
  },
  {
   "cell_type": "code",
   "execution_count": null,
   "metadata": {},
   "outputs": [],
   "source": [
    "\n",
    "\n",
    "import matplotlib.pyplot as plt\n",
    "import numpy as np\n",
    "\n",
    "from sklearn.datasets import load_boston\n",
    "from sklearn.feature_selection import SelectFromModel\n",
    "from sklearn.linear_model import LassoCV\n",
    "\n",
    "# Load the boston dataset.\n",
    "boston = load_boston()\n",
    "X, y = boston['data'], boston['target']\n",
    "print(boston['DESCR'])"
   ]
  },
  {
   "cell_type": "code",
   "execution_count": null,
   "metadata": {},
   "outputs": [],
   "source": [
    "# We use Forward stepwise selection, aka Orthogonal Matching Pursuit\n",
    "from sklearn.linear_model import OrthogonalMatchingPursuit\n",
    "\n",
    "# Get the three most significant features\n",
    "omp = OrthogonalMatchingPursuit(n_nonzero_coefs=4,fit_intercept=True, normalize=True)\n",
    "omp.fit(X, y)\n",
    "coef = omp.coef_\n",
    "idx_r, = coef.nonzero()\n",
    "\n",
    "sel_feat_name= boston['feature_names'][idx_r] ;\n",
    "print(\"Most significant features: \" + str(sel_feat_name) )"
   ]
  },
  {
   "cell_type": "code",
   "execution_count": null,
   "metadata": {},
   "outputs": [],
   "source": [
    "# Plot the selected two first features from X.\n",
    "plt.figure (figsize=(8,4))\n",
    "plt.title(\n",
    "    \"Features selected from Boston using OMP\" )\n",
    "feature1 = X[:, idx_r[0] ]\n",
    "feature2 = X[:, idx_r[1] ]\n",
    "plt.plot(feature1, feature2, 'r.')\n",
    "plt.xlabel(\"Feature number 1\" + sel_feat_name[0])\n",
    "plt.ylabel(\"Feature number 2\" + sel_feat_name[1])\n",
    "plt.ylim([np.min(feature2), np.max(feature2)])\n",
    "plt.show()"
   ]
  },
  {
   "cell_type": "code",
   "execution_count": null,
   "metadata": {},
   "outputs": [],
   "source": [
    "# We use Backward stepwise selection\n",
    "from sklearn.linear_model import LinearRegression\n",
    "from sklearn.feature_selection import RFE\n",
    "estimator = LinearRegression(fit_intercept=True, normalize=True)\n",
    "backsel= RFE(estimator, 4) \n",
    "backsel.fit(X,y)\n",
    "idx_r= backsel.support_ \n",
    "print(\"features rank: \" + str(backsel.ranking_) )\n",
    "sel_feat_name= boston['feature_names'][idx_r] ;\n",
    "print(\"Most significant features: \" + str(sel_feat_name) )\n"
   ]
  },
  {
   "cell_type": "code",
   "execution_count": null,
   "metadata": {},
   "outputs": [],
   "source": [
    "# We use the base estimator LassoCV since the L1 norm promotes sparsity of features.\n",
    "clf = LassoCV(cv=5)\n",
    "clf.fit(X, y)\n",
    "idx_r, = clf.coef_.nonzero()\n",
    "print(\"Lasso: cross validated penalty parameter -log10(alpha)= \" + str(-np.log10(clf.alpha_) ) )\n",
    "print(\"Lasso: number of non-zero features: \" + str(idx_r.shape[0]) )\n",
    "\n",
    "\n",
    "# Set a number of features equal to three\n",
    "sfm = SelectFromModel(clf, max_features=4)\n",
    "sfm.fit(X, y)\n",
    "n_features = sfm.transform(X).shape[1]\n",
    "X_transform = sfm.transform(X)\n",
    "\n",
    "sel_feat_name= boston['feature_names'][sfm.get_support()] ;\n",
    "print('Three most significant features: ' + str(sel_feat_name) )\n"
   ]
  },
  {
   "cell_type": "code",
   "execution_count": null,
   "metadata": {},
   "outputs": [],
   "source": [
    "from sklearn.linear_model import lars_path\n",
    "\n",
    "print(\"Computing regularization path using the LARS ...\")\n",
    "alphas, actives, coefs = lars_path(X, y, method='lasso', verbose=True)\n",
    "\n",
    "xx = np.sum(np.abs(coefs.T), axis=1)\n",
    "xx /= xx[-1]\n",
    "\n",
    "m_log_alphas = -np.log10(alphas)\n",
    "xx= m_log_alphas.T\n",
    "\n",
    "plt.figure (figsize=(10,5))\n",
    "plt.plot(xx, coefs.T)\n",
    "ymin, ymax = plt.ylim()\n",
    "plt.vlines(xx, ymin, ymax, linestyle='dashed')\n",
    "plt.xlabel('-log10(alpha)')\n",
    "\n",
    "plt.ylabel('Coefficients')\n",
    "plt.title('LASSO Path')\n",
    "plt.axis('tight')\n",
    "plt.legend( boston['feature_names'] )\n",
    "plt.show()"
   ]
  },
  {
   "cell_type": "code",
   "execution_count": null,
   "metadata": {},
   "outputs": [],
   "source": []
  }
 ],
 "metadata": {
  "kernelspec": {
   "display_name": "Python 3",
   "language": "python",
   "name": "python3"
  },
  "language_info": {
   "codemirror_mode": {
    "name": "ipython",
    "version": 3
   },
   "file_extension": ".py",
   "mimetype": "text/x-python",
   "name": "python",
   "nbconvert_exporter": "python",
   "pygments_lexer": "ipython3",
   "version": "3.6.6"
  }
 },
 "nbformat": 4,
 "nbformat_minor": 2
}
