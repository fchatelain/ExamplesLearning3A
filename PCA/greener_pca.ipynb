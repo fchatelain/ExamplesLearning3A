{
 "cells": [
  {
   "cell_type": "markdown",
   "metadata": {},
   "source": [
    "# GreEn-ER Dataset\n",
    "\n",
    "The data set consists of electrical consumption data for the GreEn-ER building, as well as meteorological data since September 2016. "
   ]
  },
  {
   "cell_type": "code",
   "execution_count": null,
   "metadata": {},
   "outputs": [],
   "source": [
    "import scipy.io as sio\n",
    "import numpy as np\n",
    "greener_dataset= sio.loadmat('greener_conso_meteo_2016_2018.mat')\n",
    "X= greener_dataset['data']\n",
    "X.shape"
   ]
  },
  {
   "cell_type": "markdown",
   "metadata": {},
   "source": [
    "## Variables (available measurements)"
   ]
  },
  {
   "cell_type": "code",
   "execution_count": null,
   "metadata": {},
   "outputs": [],
   "source": [
    "vbls= greener_dataset['variable_names']\n",
    "variable_names = [vbls[0][i][0] for i in range(vbls.shape[1])]\n",
    "print(variable_names)"
   ]
  },
  {
   "cell_type": "code",
   "execution_count": null,
   "metadata": {},
   "outputs": [],
   "source": [
    "vunits= greener_dataset['variable_units']\n",
    "variable_units = [vunits[0][i][0] for i in range(vunits.shape[1])]\n",
    "print(variable_units)"
   ]
  },
  {
   "cell_type": "markdown",
   "metadata": {},
   "source": [
    "### Biplot function to display both scores and loadings "
   ]
  },
  {
   "cell_type": "code",
   "execution_count": null,
   "metadata": {},
   "outputs": [],
   "source": [
    "%matplotlib notebook\n",
    "import matplotlib.pyplot as plt\n",
    "\n",
    "def biplot(score,coeff,labels=None):\n",
    "    xs = score[:,0]\n",
    "    ys = score[:,1]\n",
    "    n=coeff.shape[1]\n",
    "    xvector = coeff[0] # see 'prcomp(my_data)$rotation' in R\n",
    "    yvector = coeff[1]\n",
    "    \n",
    "    scalex = 1.0/(xs.max()- xs.min())\n",
    "    scaley = 1.0/(ys.max()- ys.min())\n",
    "    plt.scatter(xs*scalex,ys*scaley)\n",
    "    for i in range(n):\n",
    "        plt.arrow(0, 0, xvector[i], yvector[i],color='r',alpha=0.5,width=0.0005, head_width=0.0025)\n",
    "        if labels is None:\n",
    "            plt.text(xvector[i]* 1.15, yvector[i] * 1.15, \"Var\"+str(i+1), color='g', ha='center', va='center')\n",
    "        else:\n",
    "            plt.text(xvector[i]* 1.15, yvector[i] * 1.15, labels[i], color='g', ha='center', va='center')\n"
   ]
  },
  {
   "cell_type": "markdown",
   "metadata": {},
   "source": [
    " # TODO\n",
    " \n",
    " 1. Restrict first to electrical consumption variables\n",
    "   - transform them in principal component basis\n",
    "   - visualize scores and loadings\n",
    "   - see the scale effects \n",
    "   - perform dimension reduction\n",
    " 2. Same on the full dataset: electrical consumption + meteorological data\n",
    "   - take care of normalization, missing data, ..."
   ]
  },
  {
   "cell_type": "code",
   "execution_count": null,
   "metadata": {},
   "outputs": [],
   "source": [
    "from sklearn.decomposition import PCA\n",
    "from sklearn.impute import SimpleImputer\n",
    "\n",
    "imp = SimpleImputer(missing_values=np.nan, strategy='mean')\n"
   ]
  },
  {
   "cell_type": "code",
   "execution_count": null,
   "metadata": {},
   "outputs": [],
   "source": []
  }
 ],
 "metadata": {
  "kernelspec": {
   "display_name": "Python 3",
   "language": "python",
   "name": "python3"
  },
  "language_info": {
   "codemirror_mode": {
    "name": "ipython",
    "version": 3
   },
   "file_extension": ".py",
   "mimetype": "text/x-python",
   "name": "python",
   "nbconvert_exporter": "python",
   "pygments_lexer": "ipython3",
   "version": "3.6.2"
  }
 },
 "nbformat": 4,
 "nbformat_minor": 2
}
